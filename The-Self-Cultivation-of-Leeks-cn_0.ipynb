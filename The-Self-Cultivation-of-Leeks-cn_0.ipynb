{
 "cells": [
  {
   "cell_type": "markdown",
    "metadata": {},
    "source": [
   "# 韭菜的自我修养\n",
   "\n",
   "李笑来 2018\n",
   "\n",
   "> https://github.com/xiaolai/the-self-cultivation-of-leeks\n",
   "\n"
   ]
  }
 ],
 "nbformat": 4,
 "nbformat_minor": 5,
 "metadata": {}
}
