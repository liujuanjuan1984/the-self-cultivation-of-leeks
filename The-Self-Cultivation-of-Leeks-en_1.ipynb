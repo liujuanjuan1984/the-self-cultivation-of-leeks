{
 "cells": [
  {
   "cell_type": "markdown",
    "metadata": {},
    "source": [   
   "## 1. Who are the “leeks” that they are really referring to?\n",
   "\n",
   "Are you really a leek? It’s really hard to say. Because very few people can clearly describe what the precise definition of “leek” actually is. However, from the way that people often use it in sentences, we can tell that **“leek” usually refers to individual investors with limited power and resources in the markets**. For instance, “I am a new leek”, or “they are all old leeks”. On the other side of leeks are the **“big players”**, which refers to large investors with extensive resources in markets.\n",
   "\n",
   "In markets, people make money, and people lose money… But, usually, people have the impression that “leeks” lose money most of the time, while it seems like “big players” always make money, because they “must” have lots of methods of “cutting leeks” that other people don’t know about…\n",
   "\n",
   "Some words are often used together in set combinations. The existence of certain combinations show that people are generally able to understand those combinations, and that they exist in the real world. For instance, before “good person”, you might use “strong” or “fragile”. But some other combinations almost never exist, because in people’s understanding they don’t exist in the real world. For instance, it would be difficult for the adjective before “scoundrel” to be “kind-hearted”.\n",
   "\n",
   "The words that are combined with “leeks” are “cut” or “be cut”. The action of “cutting” in theory should be carried out by the adversary (the so-called “big player”), so “leeks” are often “being cut” … You almost never hear people use this kind of sentence: “*I’m a leek and I cut the ‘big players’!*” If someone actually says this, you can be almost sure that they are exaggerating.\n",
   "\n",
   "As time passes, some people merely change from “new leeks” to “old leeks”. That is to say, they still don’t make money, and they still are “cut”… But there are others who, despite having once been “new leeks”, are later no longer “leeks”. Sometimes they say, “I’m also an old leek”, but they are just joking or being modest… Why? Because in the common way of thinking, even if someone is not a “big player”, as long as they made money they are no longer a “true leek”.\n",
   "\n",
   "So, from the normal contexts that people use, we can come up with a basically precise definition:\n",
   "\n",
   "> A so-called “leek” is an individual investor with limited resources who either fails to make money or loses money in the market.\n",
   "\n",
   "Looking at it this way, the task of a “leek” who wants to become a “non-leek” (not necessarily a “whale” or a “big player”) is quite simple:\n",
   "\n",
   "> Making money…\n",
   "\n",
   "As long as you make money, you can seemingly humbly say:\n",
   "\n",
   "> … Actually, I’m just an old leek!\n",
   "\n",
   "When you talk like this, you are very kind, very considerate, and you understand how to take care of the feelings of others. Those who haven’t made money, when they see someone like you who has made money, will feel even more devastated if you don’t use this “fake” language to comfort their weak hearts. From another perspective, you are not only kind and considerate, you are also very good at protecting yourself. Because if you don’t have this “falseness”, there will really be a lot of people who hate you, or even want to get rid of you — just like what Li Xiaolai has faced for a long time.\n",
   "\n",
   "Even though this  definition of “leek” doesn’t really satisfy people with its accuracy, let’s make do with it for a while.\n",
   "\n",
   "Also, let’s add a common feature of so-called “leeks”:\n",
   "\n",
   "> They severely lack basic reading ability. They are the kind of people who buy things but have never read a manual in their lives. The are the kind of people who, no matter what they get, always ask somebody else how to use it… It’s so common, right?\n",
   "\n"
   ]
  }
 ],
 "nbformat": 4,
 "nbformat_minor": 5,
 "metadata": {}
}
