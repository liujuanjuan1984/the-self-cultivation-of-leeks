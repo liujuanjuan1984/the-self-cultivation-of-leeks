{
 "cells": [
  {
   "cell_type": "markdown",
    "metadata": {},
    "source": [   
   "## 11. What’s really the best way to set a stop-loss line…\n",
   "\n",
   "Some leeks have made progress. Soon after they hear that experts have not only a “stop-loss line”, but also a “profit-taking line”, they use the most superficial method to understand the behavior of these experts, and they set a “hard rule” for themselves that is completely possible to follow:\n",
   "\n",
   "> Don’t be too greedy!\n",
   "\n",
   "So why is this hard rule, which seems to have no problems, actually full of holes? Because the holes are not in the hard rule, but in the fact that all people are greedy, right? Also, why are you entering the trading market? Ask your heart, are you really entering so that you can make enough to buy three bowls of beef noodles every day?\n",
   "\n",
   "Truly good suggestions are always actionable. The problem with the so-called “suggestion” of “don’t be too greedy” is that it is basically not actionable.  You can think about it, but there’s no way to do it. It doesn’t count if you do it sometimes, because it’s impossible to do it in the long term.\n",
   "\n",
   "How should you set a stop-loss line?\n",
   "\n",
   "The price volatility of some targets is naturally much more extreme than others. The price volatility of bitcoin is countless times greater than that of the US dollar on foreign exchange markets. During the early days, the price of bitcoin even fell 80% in one hour, or it could rise 500% in an hour…\n",
   "\n",
   "You can estimate the “daily volatility” of a trading target. If the daily volatility is 25%, your stop-loss line — in other words, “the biggest loss you can bear” — should be greater than 25% (40%, for example)... Because risk is what you are considering - especialy strong price volatility in trading markets - **\"preparing for the worst\" is always more prudent than \"blind optimism\".\n",
   "\n",
   "As to where exactly to set the stop-loss line, there are many factors that can play a role. The trader’s personality might even be one of the important factors. The most frustrating thing is that in the moment it is your personality that really decides your behavior. But, when we look back and think about it, your personality in the moment is more likely to have been decided by your long-term behavior.\n",
   "\n",
   "At this point, most “leeks” are totally confused — they discover that there are too many factors to consider. When they are summing up the factors they often make mistakes and can’t clear things up, let alone understand the principle and phenomenon of reciprocal causation…\n",
   "\n",
   "So they’re all the same: when someone patiently explains the principles to them they quickly grow weary (notice that it’s not that they lack patience, but that they lack brain power). They all say the same thing: “Just tell me whether or not I should buy!” (This is fun: you might as well think about why they don’t ask the opposite:  “Just tell me whether or not I should sell!)\n",
   "\n",
   "**If you want to avoid the fate of leeks, just train your brain.** A brain isn't a good thing, it's a trained brain that is a good thing - you don't need to just train it, you need to train it correctly, train it well, and train it constantly.\n",
   "\n",
   "So what do leeks do? They have learned to set a stop-loss line, but even though this is “progress”, the result is worse than no progress, because they haven’t calculated the stop-loss line at all, and instead completely rely on “leek instinct”. For instance, for a target with a daily trading volatility of 25%, they set their stop-loss line at 10% or 20%…\n",
   "\n",
   "The result of doing this is another side effect that to them is completely “unexpected”. Because they have, through their own wishful thinking, lowered the numerator, even a small gain has a “low risk/reward ratio” to them. So all of their trades are “bad business”, but they never know where they made a mistake. In they end, all they can do is be like those people who are superstitious due to ignorance. They don’t see how they have been “cut”, so all they can perceive is that “someone has earned my money” (actually this is a mistaken conclusion)… So they curse the \"market manipulators\" every day while secretly hoping that they can make friends with a \"market manipulator\"  and even secretly harboring the hope that they can become a \"market manipulator\" themselves one day…\n",
   "\n",
   "Anyway, when setting a stop-loss line, you must not depend on wishful thinking. At least now you know that there is one factor you can count on:\n",
   "\n",
   "> **The daily volatility of the trading target.**\n",
   "\n"
   ]
  }
 ],
 "nbformat": 4,
 "nbformat_minor": 5,
 "metadata": {}
}
