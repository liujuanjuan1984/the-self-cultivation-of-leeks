{
 "cells": [
  {
   "cell_type": "markdown",
    "metadata": {},
    "source": [   
   "## Conclusion\n",
   "\n",
   "You are not a leek.\n",
   "\n",
   "You have never been a leek.\n",
   "\n",
   "At most you “almost became a leek”…\n",
   "\n",
   " — Even if you were “cut” when you first entered the market.\n",
   "\n",
   "When we first started, we researched how people used “leek” in different situations to come up with a definition for “leek”:\n",
   "\n",
   "> A so-called “leek” is an individual investor with limited resources who either fails to make money or loses money in the market.\n",
   "\n",
   "If I hadn’t spent so much time and energy earnestly writing this small book, I wouldn’t have thought of a clearer and more accurate definition:\n",
   "\n",
   "> So-called “leeks” are those traders who erroneously assume that they are playing a zero-sum game in trading markets that are essentially not zero-sum games.\n",
   "\n",
   "No matter how much capital these traders have, they are essentially leeks, and they have the same “fate of leeks”. That is to say, the concept of “leek” is not necessarily tied to small individual investors. Leeks are leeks only because the basic assumptions in their minds are wrong in the same way — they are perpetually making decisions according to the ways of thinking of a zero-sum game while playing a non-zero-sum game — and all of their later decisions and thinking are limited by this mistake. It gets to the point that they self-righteously make incorrect decisions, and then constantly self-righteously rationalize those mistakes with wishful thinking, and the cycle continues in this way…\n",
   "\n",
   "> There is a lyric from “Hotel California” by The Eagles:\n",
   "> \n",
   "> > We are all just prisoners here, of our own device…\n",
   "> \n",
   "> The fate of leeks is just like that!\n",
   "\n",
   "**You are different!** Even though you almost became like them… I really envy you, because you read this small book! Cough, cough.\n",
   "\n",
   "You know that this is not a zero-sum game, and from this you can, step-by-step, reach many earth-shattering conclusions… You can temporarily let go of your intelligence, but at the same time you don’t forget to train your intelligence, and so you gradually turn into a methodical trader.\n",
   "\n",
   "You can see cycles, you can judge at which times you should use which trading frequencies, and you have the ability to take responsibility for your actions. You never again need to childishly use binary logical thinking such as “seeing things in black and white”, or “you are bad and I am good”. You can see through the superficial to research the essence, and you always try to find patterns and associated methodologies that can more completely explain this world. You can even control your mood and behavior, as in the end you reversed the situation, and you were not defeated by that “natural mistake”…\n",
   "\n",
   "Li Xiaolai uses this book to wish you:\n",
   "\n",
   "> **A good life of peace…**\n",
   "\n"
   ]
  }
 ],
 "nbformat": 4,
 "nbformat_minor": 5,
 "metadata": {}
}
