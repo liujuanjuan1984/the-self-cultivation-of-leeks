{
 "cells": [
  {
   "cell_type": "markdown",
    "metadata": {},
    "source": [   
   "## 4. The most important thing ability that traders should have…\n",
   "\n",
   "The way I see it, it’s hard to find a place in the world that requires the ability to learn more than trading markets. The success of almost any trade can be finally traced back to the ability to learn. Almost all badass traders are great learners and researchers.\n",
   "\n",
   "People often use long-term and short-term to distinguish between “*speculation*” and “*investment*”, but this is very superficial. Speculation can also be long-term, just like investment can also be short-term. People see speculation as having a negative connotation, while investment as having a positive one, but this is also a common mistake and a superficial point of view. Which would you say would be better, a “failed investment” or a “successful speculation”? So, I won’t use concepts that are defined by “long-term” or “short-term”, whether for “speculation” or “investment”.\n",
   "\n",
   "I personally distinguish between speculation and investment in this way:\n",
   "\n",
   "> **Speculators refuse to learn, and investors are good at learning.**\n",
   "\n",
   "Before trading, research diligently and study deeply. After trading, whether you won or lost, you must review and summarize, correcting your ideas and thinking in order to improve your next decision. People who do this are investors in my eyes, even if they “enter and exit quickly”.\n",
   "\n",
   "What about “leeks”? The don’t study, they don’t research, they only see what is under their nose, they blame everything but themselves… Whether or not people like this have money, whether or not they have a high IQ, they are all “failed speculators” in my eyes, and they are true dumbasses.\n",
   "\n",
   "Since I started in 2011, seven years have passed in a flash, and I’ve seen countless people go crazy, whether it be for bitcoin or blockchain. But how many people have actually read the bitcoin whitepaper? And how many people have not only read it, but read it multiple times, and periodically bring it out to read it again? Most people who have not made money in bitcoin really can’t blame bitcoin, they can only blame themselves. Why? Because they don’t even know what the thing that they are trading really is…\n",
   "\n",
   "If you discover that you need to consult others, or “seek out gossip” before you’re able to decide on the direction of a trade, then that means you are one of those so-called “leeks” — because you don’t understand the trade you’re making at all. If in spite of this you don’t go and learn and research on your own, and don’t want to draw a conclusion of your own, then you are in fact an “uncultivated leek”.\n",
   "\n",
   "In the phrase “mend the pen after the sheep is lost”, “pen” in the end actually refers to your “opinion bank”, “knowledge bank”, and “decision-making apparatus”.\n",
   "\n",
   "“Entering at the tail end of the bull market” is the fate of most people, so there’s nothing to complain about, and because it’s “established fact”, there’s no way to change it. However, entering the market in ignorance, and then leaving the market in ignorance, is the most tragic ending. Having entering the market in ignorance, but — precisely because of experiencing the sad results of ignorance — working like hell to become someone with knowledge — this is the wise choice. It’s not only wise, it is the choice of a strong person.\n",
   "\n",
   "**Be a strong person.** This is the belief of all excellent traders. It is also an idea that “novices” and “new leeks” must establish. Only if they do this can they avoid “still being a leek” in the future.\n",
   "\n",
   "What can you do in a bear market besides making money out of the market and building up positions? **Study**! At least start practicing your ability to learn.\n",
   "\n",
   "Not sure what to learn? Keep reading, and read diligently, without skipping a word. Read repeatedly, and at least you’ll learn some ways of thinking and conclusions that you were unable to use before. In that way, you’ll change your way of thinking… Thinking brings decisions, decisions bring action, and action changes fates. This is the truth.\n",
   "\n"
   ]
  }
 ],
 "nbformat": 4,
 "nbformat_minor": 5,
 "metadata": {}
}
