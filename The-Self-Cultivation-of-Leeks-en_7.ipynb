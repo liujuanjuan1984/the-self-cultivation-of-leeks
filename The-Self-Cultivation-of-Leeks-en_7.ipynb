{
 "cells": [
  {
   "cell_type": "markdown",
    "metadata": {},
    "source": [   
   "## 7. Who said “leeks” don’t care about finding value…\n",
   "\n",
   "Be very careful about assuming that those who are talking about “value investing” are those who act and make judgements in accordance with “value investing”. If you’re often confused by superficial representations, then your trading results can only be very poor.\n",
   "\n",
   "Successful traders are always very few. The common feature that the few have in common is that **they are not moved by superficial representations, but like to investigate the underlying essence of those representations.**\n",
   "\n",
   "The reason why most people are talking about “value investing” is because they are already “stuck” in their positions — this is the essence of the situation. This is also the core reason why so many people like to talk about value investing — because, as we already know, most people are enticed to enter the market at the end of the bull market and the beginning of the bear market; they “buy, buy, buy” as soon as they enter, and the big bear that follows squashes many people to death with each step.\n",
   "\n",
   "This is a very interesting phenomenon:\n",
   "\n",
   "> **No one on this earth doesn’t learn.**\n",
   "\n",
   "Everybody is learning! Even an idiot is always learning… It’s just that not all learning is the same. Because the direction and methods of their learning have natural defects, what they “learn” is useless, or even harmful.\n",
   "\n",
   "“Thoroughly research where the value is and then decide whether to buy or sell” and “throw all caution to the wind and trade right away and then research after you’ve discovered you’re wrong” obviously have a world of difference between them, and the results they bring about are also poles apart.\n",
   "\n",
   "This is really an interesting phenomenon, because **cleverness and stupidity are, unexpectedly, not determined by inherent factors, but instead determined merely by “sequence”**… Just like in chess, what is done first and what is done later is the final determinant of winning and losing — both sides have the same number of pieces, and the board is symmetrical, but in the end there is winning and losing. What is it decided by? Unexpectedly, it is merely sequence. Of course, “sequence” has a lot of other names, such as “tactics”.\n",
   "\n",
   "If your so-called “fate” is that you traded at the wrong time, then the way to fix this is definitely not to go “looking for value”… Every lock has its own key, and the vast majority of people don’t have a master key. Even if you’re impatient you should never rashly seek medical advice — this is common sense.\n",
   "\n",
   "If you made a trading decision at **the wrong timing**, then what is the correct course of action?\n",
   "\n",
   "It’s easy:\n",
   "\n",
   "> **Wait for the next correct moment of opportunity!**\n",
   "\n",
   "Overly simple answers are often overlooked, because, just as people always assume that major events are controlled by vast conspiracies, they also don’t believe that a big thing like “making money” could have such a surprisingly simple answer.\n",
   "\n",
   "In the face of **a correct timing**, even a treasure such as “value” seems frail and powerless. So observe carefully: those who blindly believe in value investing can only understand their mistake and quietly pay for their incorrect decisions.\n",
   "\n",
   "If you’ve never thought of this before, there is no need to feel inferior; if one needed to feel inferior because of this type of thing, I would have killed myself long ago — because it was only after several years in the market that I started to understand the flaw of “value investing”:\n",
   "\n",
   "> Even though it is correct, it can only explain a small part of the world.\n",
   "\n"
   ]
  }
 ],
 "nbformat": 4,
 "nbformat_minor": 5,
 "metadata": {}
}
