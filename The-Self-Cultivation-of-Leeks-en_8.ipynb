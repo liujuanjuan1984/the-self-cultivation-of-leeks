{
 "cells": [
  {
   "cell_type": "markdown",
    "metadata": {},
    "source": [   
   "## 8. “Leeks” don’t lack patience, they lack strength…\n",
   "\n",
   "So-called “leeks who have been cut out of the market” don’t actually leave the market because they lack patience. Just as you saw before, even an idiot is naturally constantly learning. Any person, as long as the conditions are appropriate, has enough patience — this is a fact.\n",
   "\n",
   "Lacking patience is merely a superficial representation. So what’s the essence of the situation? **Lacking strength**.\n",
   "\n",
   "If two people are betting on flipping coins, with a bet of 10,000 RMB each time, and the coin is a perfect coin, so nobody can possibly cheat… Then let me ask you, what decides who wins in the end?\n",
   "\n",
   "This isn’t a brain twister, but you might think that this questions has some problems with it:\n",
   "\n",
   "> - It’s clearly a 50/50 chance, how is there a winner?!\n",
   "> \n",
   "> - Since there’s no winner, how can we talk about “deciding who wins”?\n",
   "> \n",
   "This is the best example, and it can prove that the vast majority of people can only see the superficial representation and cannot observe the essence.\n",
   "\n",
   "In the end there almost certainly will be a winner — if the two people have different financial resources. The chance is 50/50, but despite the fact that the overall chance is 50/50, it won’t be “this time is heads, this time is tales, and this cycle continues”… In an extreme situation, one participant might only have 10,000 to bet, so if he loses in the first round he will be eliminated. If you loved to flip coins as a child, you know that in actuality it’s quite common to flip 32 heads (or tails) in a row! If one party has 2-300,000 and the other party only has 30-50,000, then the participant with more money to gamble can win more easily, right?\n",
   "\n",
   "So in this type of game, in the end, **it’s not “luck” that decides who wins, but “strength”!**\n",
   "\n",
   "It’s basically the same principle: “leeks” leave the market not because they lack patience, but because they lack strength. If the “amount that would inevitably get trapped” when they entered the market actually only made up a small portion of their assets, would they “lose patience”? Would they lose their cool over that? Would they become unbearably anxious over that? Would they be extremely ashamed about that? They wouldn’t. It’s more likely that they would be calm and unperturbed. They would be ashamed about their mistake in judgement, but they wouldn’t carry out even more unreasonable behavior due to that embarrassment.\n",
   "\n",
   "So there’s only one way to escape the “fate of leeks”: **increase your strength.**\n",
   "\n",
   "What does strength refer to in the trading market? There is a clear definition:\n",
   "\n",
   "> **Long-term, stable, low-cost cash flow.**\n",
   "\n",
   "This is actually quite difficult to obtain, but it’s not that there is no trail to follow. Some people seem to have unlimited money to borrow, others depend on continuously raising money, and I suppose that still others are like me and depend on “the ability to earn money outside the market”. But for most normal people, continuously earning money outside the market might be the only advantageous tactic.\n",
   "\n",
   "At the same time, there is another important principle:\n",
   "\n",
   "> **Control the position.**\n",
   "\n",
   "**Always keep a certain percentage, or at least a certain amount, in cash** — just as you need an oxygen tank when snorkeling, it’s not negotiable. As to how much the percentage should be, or how much the amount should be, there’s no rule, and it totally depends on your own thinking.\n",
   "\n"
   ]
  }
 ],
 "nbformat": 4,
 "nbformat_minor": 5,
 "metadata": {}
}
